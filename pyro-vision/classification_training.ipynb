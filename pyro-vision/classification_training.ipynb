{
  "nbformat": 4,
  "nbformat_minor": 0,
  "metadata": {
    "colab": {
      "name": "pyrovision_classification_training.ipynb",
      "provenance": []
    },
    "kernelspec": {
      "name": "python3",
      "display_name": "Python 3"
    },
    "language_info": {
      "name": "python"
    },
    "accelerator": "GPU",
    "gpuClass": "standard"
  },
  "cells": [
    {
      "cell_type": "markdown",
      "source": [
        "## Environment setup\n",
        "\n",
        "For optimal training speed, ensure to enable the GPU of Colab!\n",
        "Go to `Runtime/Change runtime type/`, then select `GPU` in `Hardware accelerator` and click on `Save`."
      ],
      "metadata": {
        "id": "5a_0vMInvebt"
      }
    },
    {
      "cell_type": "code",
      "execution_count": 1,
      "metadata": {
        "colab": {
          "base_uri": "https://localhost:8080/"
        },
        "id": "GUvHBmDYvZ1z",
        "outputId": "691a0392-0f4b-49d3-ca88-f5e338e573df"
      },
      "outputs": [
        {
          "output_type": "stream",
          "name": "stdout",
          "text": [
            "Sat Jul 16 11:27:59 2022       \n",
            "+-----------------------------------------------------------------------------+\n",
            "| NVIDIA-SMI 460.32.03    Driver Version: 460.32.03    CUDA Version: 11.2     |\n",
            "|-------------------------------+----------------------+----------------------+\n",
            "| GPU  Name        Persistence-M| Bus-Id        Disp.A | Volatile Uncorr. ECC |\n",
            "| Fan  Temp  Perf  Pwr:Usage/Cap|         Memory-Usage | GPU-Util  Compute M. |\n",
            "|                               |                      |               MIG M. |\n",
            "|===============================+======================+======================|\n",
            "|   0  Tesla T4            Off  | 00000000:00:04.0 Off |                    0 |\n",
            "| N/A   60C    P8    10W /  70W |      0MiB / 15109MiB |      0%      Default |\n",
            "|                               |                      |                  N/A |\n",
            "+-------------------------------+----------------------+----------------------+\n",
            "                                                                               \n",
            "+-----------------------------------------------------------------------------+\n",
            "| Processes:                                                                  |\n",
            "|  GPU   GI   CI        PID   Type   Process name                  GPU Memory |\n",
            "|        ID   ID                                                   Usage      |\n",
            "|=============================================================================|\n",
            "|  No running processes found                                                 |\n",
            "+-----------------------------------------------------------------------------+\n"
          ]
        }
      ],
      "source": [
        "!nvidia-smi"
      ]
    },
    {
      "cell_type": "markdown",
      "source": [
        "Now we'll download everything we need for the training"
      ],
      "metadata": {
        "id": "asMZjRYwvk_5"
      }
    },
    {
      "cell_type": "code",
      "source": [
        "# Package dependencies\n",
        "!git clone https://github.com/pyronear/pyro-vision.git\n",
        "!pip install --upgrade pip\n",
        "!pip install -e \"pyro-vision/.[training]\""
      ],
      "metadata": {
        "id": "3p2x521svln8"
      },
      "execution_count": null,
      "outputs": []
    },
    {
      "cell_type": "markdown",
      "source": [
        "Now go to `Runtime/Restart runtime` for your changes to take effect!"
      ],
      "metadata": {
        "id": "q7ulBYO8vxv-"
      }
    },
    {
      "cell_type": "code",
      "source": [
        "import sys\n",
        "sys.path.insert(1, \"/content/pyro-vision/references/classification\")\n",
        "from train import main, get_parser"
      ],
      "metadata": {
        "id": "6ELnxKUqv0d_"
      },
      "execution_count": null,
      "outputs": []
    },
    {
      "cell_type": "code",
      "source": [
        "!pip install -e \"pyro-vision/.[training]\""
      ],
      "metadata": {
        "id": "xL2iQcnt4JnV"
      },
      "execution_count": null,
      "outputs": []
    },
    {
      "cell_type": "markdown",
      "source": [
        "If you wish to log your experiment, feel free to login with your W&B account!"
      ],
      "metadata": {
        "id": "i3sktkEAvx1H"
      }
    },
    {
      "cell_type": "code",
      "source": [
        "!wandb login"
      ],
      "metadata": {
        "id": "S7Jg5B0-wGm0"
      },
      "execution_count": null,
      "outputs": []
    },
    {
      "cell_type": "markdown",
      "source": [
        "The training script has many parameters for you to experiment on, you can use the help command to inspect them!"
      ],
      "metadata": {
        "id": "rXZaHABzwH3M"
      }
    },
    {
      "cell_type": "code",
      "source": [
        "!python pyro-vision/references/classification/train.py --help"
      ],
      "metadata": {
        "id": "nd8Sjh4BwJ2n"
      },
      "execution_count": null,
      "outputs": []
    },
    {
      "cell_type": "markdown",
      "source": [
        "Let's check some training samples"
      ],
      "metadata": {
        "id": "9nn0wuhcwOVm"
      }
    },
    {
      "cell_type": "code",
      "source": [
        "main(get_parser().parse_args(\"/content/datasets/ --openfire --show-samples\".split()))"
      ],
      "metadata": {
        "id": "HAf0qG0BwPGV"
      },
      "execution_count": null,
      "outputs": []
    },
    {
      "cell_type": "markdown",
      "source": [
        "For now let's train with a good default setup"
      ],
      "metadata": {
        "id": "WQV3Zc28wf9N"
      }
    },
    {
      "cell_type": "code",
      "source": [
        "main(get_parser().parse_args(\"/content/datasets/ --openfire --arch rexnet1_0x -b 64 --device 0 --amp --find-lr\".split()))"
      ],
      "metadata": {
        "id": "SSzxvvNGwhmu"
      },
      "execution_count": null,
      "outputs": []
    },
    {
      "cell_type": "markdown",
      "source": [
        "In order to interpret this graph, you can refer to Sylvain Gugger's [post](https://sgugger.github.io/how-do-you-find-a-good-learning-rate.html)!\n",
        "Here we'll use a learning rate of `5e-4` and run the training 🙌"
      ],
      "metadata": {
        "id": "z0DqbAA1woZM"
      }
    },
    {
      "cell_type": "code",
      "source": [
        "main(get_parser().parse_args(\"/content/datasets/ --openfire --arch rexnet1_0x -b 64 --device 0 --amp --lr 5e-4 --epochs 10 --output-file ./rexnet1_0x.pt\".split()))"
      ],
      "metadata": {
        "id": "JssLKz86wpcE"
      },
      "execution_count": null,
      "outputs": []
    },
    {
      "cell_type": "markdown",
      "source": [
        "And now enjoy your newly trained model 🚀"
      ],
      "metadata": {
        "id": "qlsBuiekwrmL"
      }
    }
  ]
}